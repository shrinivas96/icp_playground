{
 "cells": [
  {
   "cell_type": "code",
   "execution_count": null,
   "metadata": {},
   "outputs": [],
   "source": [
    "# source: https://nbviewer.org/github/niosus/notebooks/blob/master/icp.ipynb\n",
    "import sys\n",
    "import numpy as np\n",
    "import open3d as o3d\n",
    "import matplotlib.pyplot as plt\n",
    "from ranges_and_cartesian import read_scans_write_points, pol2cart"
   ]
  },
  {
   "cell_type": "code",
   "execution_count": null,
   "metadata": {},
   "outputs": [],
   "source": [
    "SMALL_SIZE = 8\n",
    "MEDIUM_SIZE = 10\n",
    "BIG_SIZE = 12\n",
    "BIGG_SIZE = 14\n",
    "BIGGER_SIZE = 16\n",
    "\n",
    "plt.rc('xtick', labelsize=BIG_SIZE)    # fontsize of the tick labels\n",
    "plt.rc('ytick', labelsize=BIG_SIZE)    # fontsize of the tick labels\n",
    "plt.rc('axes', labelsize=BIGGER_SIZE)    # fontsize of the x and y labels\n",
    "plt.rc('legend', fontsize=BIGGER_SIZE)    # legend fontsize\n",
    "\n",
    "# plt.rc('font', size=SMALL_SIZE)          # controls default text sizes\n",
    "# plt.rc('axes', titlesize=SMALL_SIZE)     # fontsize of the axes title\n",
    "# plt.rc('figure', titlesize=BIGGER_SIZE)  # fontsize of the figure title"
   ]
  },
  {
   "cell_type": "code",
   "execution_count": null,
   "metadata": {},
   "outputs": [],
   "source": [
    "# Inverse of a CDF related functions\n",
    "\n",
    "def RationalApproximation(t):\n",
    "    # Abramowitz and Stegun formula 26.2.23.\n",
    "    # The absolute value of the error should be less than 4.5 e-4.\n",
    "    c = [2.515517, 0.802853, 0.010328]\n",
    "    d = [1.432788, 0.189269, 0.001308]\n",
    "    return t - ((c[2]*t + c[1])*t + c[0]) / (((d[2]*t + d[1])*t + d[0])*t + 1.0)\n",
    "\n",
    "def NormalCDFInverse(p):\n",
    "    # See article above for explanation of this section.\n",
    "    if (p < 0.5):\n",
    "        # F^-1(p) = - G^-1(p)\n",
    "        return -RationalApproximation( np.sqrt(-2.0*np.log(p)) )\n",
    "    else:\n",
    "        # F^-1(p) = G^-1(1-p)\n",
    "        return RationalApproximation( np.sqrt(-2.0*np.log(1-p)) ) "
   ]
  },
  {
   "cell_type": "code",
   "execution_count": null,
   "metadata": {},
   "outputs": [],
   "source": [
    "def plot_data(data_1, data_2, label_1, label_2, markersize_1=5, markersize_2=5):\n",
    "    fig = plt.figure(figsize=(16, 9))\n",
    "    ax = fig.add_subplot(111)\n",
    "    ax.axis('equal')\n",
    "    ax.set_xlabel(\"$x$\")\n",
    "    ax.set_ylabel(\"$y$\")\n",
    "    if data_1 is not None:\n",
    "        x_p, y_p = data_1\n",
    "        ax.plot(x_p, y_p, color='#336699', markersize=markersize_1, marker='o', linestyle=\":\", label=label_1)\n",
    "    if data_2 is not None:\n",
    "        x_q, y_q = data_2\n",
    "        ax.plot(x_q, y_q, color='orangered', markersize=markersize_2, marker='o', linestyle=\":\", label=label_2)\n",
    "    ax.legend()\n",
    "    return ax"
   ]
  },
  {
   "cell_type": "code",
   "execution_count": null,
   "metadata": {},
   "outputs": [],
   "source": [
    "def returnMetric(sum):\n",
    "    num_points = 180\n",
    "    laserRangeVaraince = 0.015933206879414907\n",
    "    normalVariance = 2*laserRangeVaraince\n",
    "    muHalfNormal = np.sqrt(2 * normalVariance / np.pi)\n",
    "    varianceHalfNormal = normalVariance * (1 - (2/np.pi))\n",
    "    metric = (sum - (muHalfNormal*num_points)) / np.sqrt(varianceHalfNormal*num_points)\n",
    "\n",
    "    return metric\n",
    "\n",
    "def returnFinites(array):\n",
    "    arr_isfinite = np.all(np.isfinite(array), axis=1)\n",
    "    return array[arr_isfinite, :]"
   ]
  },
  {
   "cell_type": "code",
   "execution_count": null,
   "metadata": {},
   "outputs": [],
   "source": [
    "def return_ranges(fileToRead):\n",
    "    # scan file contains just two lines of scan copy pasted from logger on remote machine\n",
    "    with open(fileToRead, \"r\") as file:\n",
    "        ranges_p1 = []\n",
    "        ranges_p2 = []\n",
    "        \n",
    "        # first line\n",
    "        for x in file.readline().split(\", \"):\n",
    "            if(x == \"inf\"):\n",
    "                # x = \"0.0\"\n",
    "                pass\n",
    "            ranges_p1.append(float(x.rstrip(\"\\n\")))\n",
    "        \n",
    "        # second line\n",
    "        for x in file.readline().split(\", \"):\n",
    "            if(x == \"inf\"):\n",
    "                # x = \"0.0\"\n",
    "                pass\n",
    "            ranges_p2.append(float(x.rstrip(\"\\n\")))\n",
    "        \n",
    "        ranges_p1 = np.array(ranges_p1)\n",
    "        ranges_p2 = np.array(ranges_p2)\n",
    "    return ranges_p1, ranges_p2\n",
    "\n",
    "def distortion(scan: np.ndarray, mask_range_ = 0, mask_start_idx_ = 0, window_size_ = 50):\n",
    "    unif_min = 0.1\n",
    "    num_ranges = len(scan)\n",
    "    for k in range(num_ranges):\n",
    "        if (k >= mask_start_idx_ and k <= mask_start_idx_+window_size_):\n",
    "            scan[k] = mask_range_\n",
    "        scan[k] += np.random.uniform(-unif_min, unif_min)\n",
    "    return scan\n",
    "\n",
    "def convert_to_cartesian(ranges_p1:np.ndarray):\n",
    "\n",
    "    v_cart = np.vectorize(pol2cart)\n",
    "\n",
    "    # corresponding angles in [0, 2pi) for the range scans\n",
    "    angles = np.arange(0, 360) * np.pi/180\n",
    "    angles = np.reshape(angles, (360, 1))\n",
    "\n",
    "    ranges_p1 = np.reshape(ranges_p1, (360, 1))\n",
    "\n",
    "    # ones and zeros array\n",
    "    zeros = np.zeros((360, 1))\n",
    "    ones = np.ones((360, 1))\n",
    "\n",
    "    # converting polar to cartesian\n",
    "    xy_p1 = v_cart(ranges_p1, angles)\n",
    "    \n",
    "    # appending 0's and 1's to make it usable with 4x4 matrices. \n",
    "    # 0's in third dimension just means it is one plane in 3D points\n",
    "    points_p1 = np.column_stack((xy_p1[0], xy_p1[1], zeros, ones))\n",
    "    return points_p1"
   ]
  },
  {
   "cell_type": "code",
   "execution_count": null,
   "metadata": {},
   "outputs": [],
   "source": [
    "# change references to this everywhere\n",
    "# saveFile = 'data/points_from_sim_ranges_inf.npz' "
   ]
  },
  {
   "cell_type": "code",
   "execution_count": null,
   "metadata": {},
   "outputs": [],
   "source": [
    "readFile = \"data_add/logRealSimScanComparision.dat\"\n",
    "saveFile = 'writing_data/pointsRealSimScanComp.npz'\n",
    "\n",
    "\n",
    "ranges_p1, ranges_p2 = return_ranges(readFile)\n",
    "ranges_p1c = np.copy(ranges_p1)\n",
    "points_p1 = convert_to_cartesian(ranges_p1)\n",
    "points_p2 = convert_to_cartesian(ranges_p2)\n",
    "ranges_p1c = distortion(ranges_p1c, mask_range_ = 1.5, mask_start_idx_ = 0, window_size_ = 50)\n",
    "points_p1c = convert_to_cartesian(ranges_p1c)\n",
    "\n",
    "\n",
    "# needs to done once to save the points. for now we have the points\n",
    "# read_scans_write_points(readFile, saveFile)\n",
    "\n",
    "diff_points_from_ranges = np.load(saveFile)\n",
    "dspoints_p1_4x1 = returnFinites(diff_points_from_ranges['points_p1'])\n",
    "dspoints_p2_4x1 = returnFinites(diff_points_from_ranges['points_p2'])\n",
    "\n",
    "true_data = dspoints_p1_4x1[:, 0:2].T\n",
    "moved_data = dspoints_p2_4x1[:, 0:2].T"
   ]
  },
  {
   "cell_type": "code",
   "execution_count": null,
   "metadata": {},
   "outputs": [],
   "source": [
    "ax = plot_data(true_data, moved_data, \n",
    "               label_1='Real Scan', label_2='Simulated Scan',\n",
    "               markersize_1=6, markersize_2=6)\n",
    "\n",
    "plt.grid(True)\n",
    "plt.legend()\n",
    "plt.show()"
   ]
  },
  {
   "cell_type": "code",
   "execution_count": null,
   "metadata": {},
   "outputs": [],
   "source": [
    "# create an initial transformation for ICP to find the original\n",
    "beta = 0\n",
    "cos_a = np.cos(beta)\n",
    "sin_a = np.sin(beta)\n",
    "\n",
    "fake_trans = np.eye(4)\n",
    "fake_trans[0:2, 0:2] = np.array([[cos_a, -sin_a],       # rotation matrix\n",
    "                                 [sin_a, cos_a]])\n",
    "fake_trans[0, 3] = -0.03                                 # x translation\n",
    "# fake_trans[1, 3] = 0.3                                  # y translation"
   ]
  },
  {
   "cell_type": "code",
   "execution_count": null,
   "metadata": {},
   "outputs": [],
   "source": [
    "# create a point cloud object for open3d and input your points in there\n",
    "source_pcd = o3d.geometry.PointCloud()\n",
    "target_pcd = o3d.geometry.PointCloud()\n",
    "icp_aligned_pcd = o3d.geometry.PointCloud()\n",
    "\n",
    "source_pcd.points = o3d.utility.Vector3dVector(dspoints_p1_4x1[:, 0:3])\n",
    "target_pcd.points = o3d.utility.Vector3dVector(dspoints_p2_4x1[:, 0:3])\n",
    "\n",
    "threshold = 0.02*1e1"
   ]
  },
  {
   "cell_type": "code",
   "execution_count": null,
   "metadata": {},
   "outputs": [],
   "source": [
    "# do icp and get the resulting transformation. then transform points according to new transformation\n",
    "\n",
    "# performing the ICP with open3d\n",
    "reg_p2p = o3d.pipelines.registration.registration_icp(\n",
    "            source_pcd, target_pcd, threshold, fake_trans,\n",
    "            o3d.pipelines.registration.TransformationEstimationPointToPoint(),\n",
    "            o3d.pipelines.registration.ICPConvergenceCriteria(max_iteration=1000))\n",
    "\n",
    "# the final trasnformation as a 4x4 hom. trans.\n",
    "T_icp = reg_p2p.transformation\n",
    "\n",
    "# apply transformation to points of p1\n",
    "points_p1_reg_icp = np.matmul(dspoints_p1_4x1, T_icp.T)\n",
    "icp_aligned_pcd.points = o3d.utility.Vector3dVector(points_p1_reg_icp[:, 0:3])\n",
    "\n",
    "print(reg_p2p)\n",
    "print(\"Transformation is:\")\n",
    "print(T_icp)\n",
    "# draw_registration_result(source_pcd, target_pcd, reg_p2p.transformation)"
   ]
  },
  {
   "cell_type": "code",
   "execution_count": null,
   "metadata": {},
   "outputs": [],
   "source": [
    "ax = plot_data(moved_data, points_p1_reg_icp[:, 0:2].T, label_1='Simulated Scan', label_2='Real Scan after ICP')\n",
    "\n",
    "plt.grid(True)\n",
    "plt.legend()\n",
    "plt.show()"
   ]
  },
  {
   "cell_type": "code",
   "execution_count": null,
   "metadata": {},
   "outputs": [],
   "source": [
    "point_clouds_aligned = \"writing_data/pointsSimAlignedReal_2023-06-12-16-36.npz\"\n",
    "np.savez(point_clouds_aligned, points_p1=dspoints_p2_4x1, points_p2=points_p1_reg_icp)"
   ]
  },
  {
   "cell_type": "code",
   "execution_count": null,
   "metadata": {},
   "outputs": [],
   "source": [
    "# computing corresponding distance between the two aligned scans\n",
    "dist_bw_source_target = np.array(source_pcd.compute_point_cloud_distance(target_pcd))\n",
    "dist_bw_source_target_rw = np.array(target_pcd.compute_point_cloud_distance(source_pcd))\n",
    "print(\"Before alignment: \", dist_bw_source_target.sum(), dist_bw_source_target_rw.sum())\n",
    "\n",
    "dist_bw_target_alined = np.array(target_pcd.compute_point_cloud_distance(icp_aligned_pcd))\n",
    "dist_bw_target_alined_rw = np.array(icp_aligned_pcd.compute_point_cloud_distance(target_pcd))\n",
    "print(\"After alignment: \", dist_bw_target_alined.sum(), dist_bw_target_alined_rw.sum())"
   ]
  },
  {
   "cell_type": "code",
   "execution_count": null,
   "metadata": {},
   "outputs": [],
   "source": [
    "sum_st = dist_bw_target_alined.sum()\n",
    "sum_st_rw = dist_bw_target_alined_rw.sum()\n",
    "print(\"Sum of the distances: \", sum_st, sum_st_rw)"
   ]
  },
  {
   "cell_type": "code",
   "execution_count": null,
   "metadata": {},
   "outputs": [],
   "source": [
    "alpha = 0.1\n",
    "oneMinusAlpha = 1 - alpha\n",
    "f_inv = NormalCDFInverse(oneMinusAlpha)\n",
    "\n",
    "print(\"Metric: \", returnMetric(sum_st))\n",
    "print(\"Metric: \", returnMetric(sum_st_rw))\n",
    "print(\"F^-1(1-alpha): \", f_inv)\n",
    "# print(NormalCDFInverse(alpha))"
   ]
  },
  {
   "cell_type": "code",
   "execution_count": null,
   "metadata": {},
   "outputs": [],
   "source": []
  }
 ],
 "metadata": {
  "kernelspec": {
   "display_name": "icpVenv",
   "language": "python",
   "name": "python3"
  },
  "language_info": {
   "codemirror_mode": {
    "name": "ipython",
    "version": 3
   },
   "file_extension": ".py",
   "mimetype": "text/x-python",
   "name": "python",
   "nbconvert_exporter": "python",
   "pygments_lexer": "ipython3",
   "version": "3.8.10"
  },
  "orig_nbformat": 4
 },
 "nbformat": 4,
 "nbformat_minor": 2
}
