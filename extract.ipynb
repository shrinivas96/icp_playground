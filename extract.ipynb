{
 "cells": [
  {
   "cell_type": "code",
   "execution_count": null,
   "metadata": {},
   "outputs": [],
   "source": [
    "import numpy as np\n",
    "import matplotlib.pyplot as plt"
   ]
  },
  {
   "cell_type": "code",
   "execution_count": null,
   "metadata": {},
   "outputs": [],
   "source": [
    "def rows_linspaced(array, n_repeats):\n",
    "    # create a new array, where each row from orig array repeats n times\n",
    "    enlarged_array = np.repeat(array, repeats=n_repeats, axis=0)\n",
    "    \n",
    "    # what should the 3rd column contain; i.e. the value that will repeat\n",
    "    z_repeat = np.linspace(0, 1, n_repeats)\n",
    "\n",
    "    # slip every n_repeats beacause slicing\n",
    "    for i in range(0, enlarged_array.shape[0], n_repeats):\n",
    "        enlarged_array[i:i+n_repeats, 2] = z_repeat\n",
    "\n",
    "    return enlarged_array"
   ]
  },
  {
   "cell_type": "code",
   "execution_count": null,
   "metadata": {},
   "outputs": [],
   "source": [
    "# get the poses as homogeneous transformations corresponding to the two range scans\n",
    "poses_as_transform = np.load('data/poses_as_transforms.npz')\n",
    "HT_C1 = poses_as_transform['HT_C1']\n",
    "HT_C2 = poses_as_transform['HT_C2']\n",
    "\n",
    "points_from_ranges = np.load('data/points_from_sim_ranges.npz')\n",
    "\n",
    "# convert each range into a cartesian point\n",
    "points_p1 = points_from_ranges['points_p1']\n",
    "points_p2 = points_from_ranges['points_p2']\n",
    "\n",
    "# add a 0 and 1 to each vector to make them a 4x1 vector\n",
    "points_p1_4by1 = np.hstack((points_p1, np.zeros((360, 1))))\n",
    "points_p1_4by1 = np.hstack((points_p1_4by1, np.ones((360, 1))))\n",
    "\n",
    "points_p2_4by1 = np.hstack((points_p2, np.zeros((360, 1))))\n",
    "points_p2_4by1 = np.hstack((points_p2_4by1, np.ones((360, 1))))\n",
    "\n",
    "points_C1_4by1 = np.matmul(points_p1_4by1, HT_C1.T)\n",
    "points_C2_4by1 = np.matmul(points_p2_4by1, HT_C2.T)"
   ]
  },
  {
   "cell_type": "code",
   "execution_count": null,
   "metadata": {},
   "outputs": [],
   "source": [
    "points_p1.shape"
   ]
  },
  {
   "cell_type": "code",
   "execution_count": null,
   "metadata": {},
   "outputs": [],
   "source": [
    "plt.figure(figsize=(16, 9))\n",
    "plt.scatter(points_p1_4by1[:, 0], points_p1_4by1[:, 1], s=6, label='C1')\n",
    "plt.scatter(points_p2[:, 0], points_p2[:, 1], s=6, label='C2')\n",
    "plt.scatter(points_C1_4by1[:, 0], points_C1_4by1[:, 1], s=15, label='C1T')\n",
    "plt.scatter(points_C2_4by1[:, 0], points_C2_4by1[:, 1], s=6, label='C2T')\n",
    "\n",
    "plt.legend(prop={'size': 15})\n",
    "plt.grid(True)\n",
    "plt.show()"
   ]
  },
  {
   "cell_type": "code",
   "execution_count": null,
   "metadata": {},
   "outputs": [],
   "source": [
    "fig = plt.figure(figsize=(15, 6))\n",
    "ax1 = fig.add_subplot(121)\n",
    "ax1.scatter(points_p1[:, 0], points_p1[:, 1], s=6)\n",
    "ax2 = fig.add_subplot(122)\n",
    "ax2.scatter(points_p2[:, 0], points_p2[:, 1], s=6)"
   ]
  },
  {
   "cell_type": "code",
   "execution_count": null,
   "metadata": {},
   "outputs": [],
   "source": [
    "npzfile = np.load(\"data/transforms.npz\")\n",
    "C1_invC2 = npzfile['arr_0']\n",
    "invC2_C1 = npzfile['arr_1']\n",
    "C2_invC1 = npzfile['arr_2']\n",
    "invC1_C2 = npzfile['arr_3']"
   ]
  },
  {
   "cell_type": "code",
   "execution_count": null,
   "metadata": {},
   "outputs": [],
   "source": [
    "# points_C1_transformed = []\n",
    "points_C1_C1_invC2 = np.matmul(points_p1_4by1, C1_invC2.T)\n",
    "points_C1_invC2_C1 = np.matmul(points_p1_4by1, invC2_C1.T)\n",
    "points_C1_C2_invC1 = np.matmul(points_p1_4by1, C2_invC1.T)\n",
    "points_C1_invC1_C2 = np.matmul(points_p1_4by1, invC1_C2.T)\n",
    "\n",
    "plt.figure(figsize=(16, 9))\n",
    "plt.scatter(points_p1[:, 0], points_p1[:, 1], s=6, label='C1')\n",
    "plt.scatter(points_p2[:, 0], points_p2[:, 1], s=6, label='C2')\n",
    "# plt.scatter(points_C1_transformed[:, 0], points_C1_transformed[:, 1], s=5)\n",
    "plt.scatter(points_C1_C1_invC2[:, 0], points_C1_C1_invC2[:, 1], s=1, label='C1_invC2')\n",
    "plt.scatter(points_C1_invC2_C1[:, 0], points_C1_invC2_C1[:, 1], s=1, label='invC2_C1')\n",
    "plt.scatter(points_C1_C2_invC1[:, 0], points_C1_C2_invC1[:, 1], s=1, label='C2_invC1')\n",
    "plt.scatter(points_C1_invC1_C2[:, 0], points_C1_invC1_C2[:, 1], s=5, label='invC1_C2')\n",
    "\n",
    "plt.legend(prop={'size': 15})\n",
    "plt.grid(True)\n",
    "plt.show()"
   ]
  },
  {
   "cell_type": "code",
   "execution_count": null,
   "metadata": {},
   "outputs": [],
   "source": [
    "T_icp, dist, i = icp(points_C1_4by1, points_C2_4by1, tolerance=1e-6)\n",
    "\n",
    "print(T_icp)"
   ]
  }
 ],
 "metadata": {
  "kernelspec": {
   "display_name": "myICPVenv",
   "language": "python",
   "name": "python3"
  },
  "language_info": {
   "codemirror_mode": {
    "name": "ipython",
    "version": 3
   },
   "file_extension": ".py",
   "mimetype": "text/x-python",
   "name": "python",
   "nbconvert_exporter": "python",
   "pygments_lexer": "ipython3",
   "version": "3.8.10"
  },
  "orig_nbformat": 4
 },
 "nbformat": 4,
 "nbformat_minor": 2
}
