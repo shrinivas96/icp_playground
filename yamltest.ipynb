{
 "cells": [
  {
   "cell_type": "code",
   "execution_count": 1,
   "metadata": {},
   "outputs": [],
   "source": [
    "import yaml\n",
    "import numpy as np\n",
    "\n",
    "# Function to parse the YAML data and extract the 'ranges' array\n",
    "def parse_ranges(yaml_data):\n",
    "    data = yaml.safe_load(yaml_data)\n",
    "    ranges_array = data['ranges']\n",
    "    return ranges_array\n",
    "\n",
    "\n",
    "with open('data/scan_topic_dump.dat', 'r') as file:\n",
    "    yaml_data = file.read()\n",
    "\n",
    "sequences = yaml_data.split('header:')\n",
    "\n",
    "ranges_arrays = []\n",
    "\n",
    "for sequence in sequences[1:]:  # Skip the first empty element\n",
    "    ranges_array = parse_ranges('header:' + sequence)\n",
    "    ranges_arrays.append(ranges_array)\n",
    "\n",
    "numpy_ranges_array = np.array(ranges_arrays)"
   ]
  },
  {
   "cell_type": "code",
   "execution_count": 5,
   "metadata": {},
   "outputs": [],
   "source": [
    "# Load the data from the file\n",
    "\n",
    "\n",
    "# # Parse the YAML data and get the 'ranges' array\n",
    "# ranges_array = parse_ranges(yaml_data)\n",
    "\n",
    "# # Convert the 'ranges' list to a numpy array\n",
    "# numpy_ranges_array = np.array(ranges_array)"
   ]
  },
  {
   "cell_type": "code",
   "execution_count": 12,
   "metadata": {},
   "outputs": [
    {
     "data": {
      "text/plain": [
       "dtype('<U32')"
      ]
     },
     "execution_count": 12,
     "metadata": {},
     "output_type": "execute_result"
    }
   ],
   "source": [
    "# Print the numpy array\n",
    "for i in numpy_ranges_array[25]:\n",
    "    print(i, \", \", sep=\"\", end=\"\")"
   ]
  }
 ],
 "metadata": {
  "kernelspec": {
   "display_name": "icpVenv",
   "language": "python",
   "name": "python3"
  },
  "language_info": {
   "codemirror_mode": {
    "name": "ipython",
    "version": 3
   },
   "file_extension": ".py",
   "mimetype": "text/x-python",
   "name": "python",
   "nbconvert_exporter": "python",
   "pygments_lexer": "ipython3",
   "version": "3.8.10"
  },
  "orig_nbformat": 4
 },
 "nbformat": 4,
 "nbformat_minor": 2
}
