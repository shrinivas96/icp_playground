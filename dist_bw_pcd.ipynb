{
 "cells": [
  {
   "cell_type": "code",
   "execution_count": 1,
   "metadata": {},
   "outputs": [
    {
     "name": "stdout",
     "output_type": "stream",
     "text": [
      "Jupyter environment detected. Enabling Open3D WebVisualizer.\n",
      "[Open3D INFO] WebRTC GUI backend enabled.\n",
      "[Open3D INFO] WebRTCWindowSystem: HTTP handshake server disabled.\n"
     ]
    }
   ],
   "source": [
    "import copy\n",
    "import numpy as np\n",
    "import open3d as o3d\n",
    "from scipy.stats import norm\n",
    "import matplotlib.pyplot as plt\n",
    "from matplotlib.animation import FuncAnimation"
   ]
  },
  {
   "cell_type": "code",
   "execution_count": null,
   "metadata": {},
   "outputs": [],
   "source": [
    "def create_heatmap(matrix, threshold):\n",
    "    # Create a mask to identify values that are smaller than the threshold\n",
    "    mask = matrix < threshold\n",
    "    \n",
    "    # Create a new matrix with masked values\n",
    "    masked_matrix = np.ma.masked_where(~mask, matrix)\n",
    "    \n",
    "    # Create the heatmap using matplotlib\n",
    "    plt.figure(figsize=(10, 8))\n",
    "    plt.imshow(masked_matrix, cmap='hot', interpolation='nearest', vmin=matrix.min(), vmax=matrix.max())\n",
    "    plt.colorbar()\n",
    "    plt.title(f\"Heatmap for Values < {threshold}\")\n",
    "    plt.show()"
   ]
  },
  {
   "cell_type": "code",
   "execution_count": 2,
   "metadata": {},
   "outputs": [],
   "source": [
    "def symmetrize(a):\n",
    "    \"\"\"\n",
    "    Return a symmetrized version of NumPy array a.\n",
    "\n",
    "    Values 0 are replaced by the array value at the symmetric\n",
    "    position (with respect to the diagonal), i.e. if a_ij = 0,\n",
    "    then the returned array a' is such that a'_ij = a_ji.\n",
    "\n",
    "    Diagonal values are left untouched.\n",
    "\n",
    "    a -- square NumPy array, such that a_ij = 0 or a_ji = 0, \n",
    "    for i != j.\n",
    "    \"\"\"\n",
    "    return a + a.T - np.diag(a.diagonal())"
   ]
  },
  {
   "cell_type": "code",
   "execution_count": 3,
   "metadata": {},
   "outputs": [],
   "source": [
    "# Inverse of a CDF related functions\n",
    "\n",
    "def RationalApproximation(t):\n",
    "    # Abramowitz and Stegun formula 26.2.23.\n",
    "    # The absolute value of the error should be less than 4.5 e-4.\n",
    "    c = [2.515517, 0.802853, 0.010328]\n",
    "    d = [1.432788, 0.189269, 0.001308]\n",
    "    return t - ((c[2]*t + c[1])*t + c[0]) / (((d[2]*t + d[1])*t + d[0])*t + 1.0)\n",
    "\n",
    "def NormalCDFInverse(p):\n",
    "    # See article above for explanation of this section.\n",
    "    if (p < 0.5):\n",
    "        # F^-1(p) = - G^-1(p)\n",
    "        return -RationalApproximation( np.sqrt(-2.0*np.log(p)) )\n",
    "    else:\n",
    "        # F^-1(p) = G^-1(1-p)\n",
    "        return RationalApproximation( np.sqrt(-2.0*np.log(1-p)) ) "
   ]
  },
  {
   "cell_type": "code",
   "execution_count": 4,
   "metadata": {},
   "outputs": [],
   "source": [
    "def returnFinites(array):\n",
    "    arr_isfinite = np.all(np.isfinite(array), axis=1)\n",
    "    return array[arr_isfinite, :]\n",
    "\n",
    "def draw_registration_result(source, target, transformation=np.eye(4)):\n",
    "    source_temp = copy.deepcopy(source)\n",
    "    target_temp = copy.deepcopy(target)\n",
    "    source_temp.paint_uniform_color([1, 0.706, 0])\n",
    "    target_temp.paint_uniform_color([0, 0.651, 0.929])\n",
    "    source_temp.transform(transformation)\n",
    "    o3d.visualization.draw_geometries([source_temp, target_temp],\n",
    "                                      zoom=0.4459,\n",
    "                                      front=[0.9288, -0.2951, -0.2242],\n",
    "                                      lookat=[1.6784, 2.0612, 1.4451],\n",
    "                                      up=[-0.3402, -0.9189, -0.1996])"
   ]
  },
  {
   "cell_type": "code",
   "execution_count": 5,
   "metadata": {},
   "outputs": [],
   "source": [
    "def returnMetric(sum):\n",
    "    num_points = 180\n",
    "    laserRangeVaraince = 0.015933206879414907\n",
    "    normalVariance = 2*laserRangeVaraince\n",
    "    muHalfNormal = np.sqrt(2 * normalVariance / np.pi)\n",
    "    varianceHalfNormal = normalVariance * (1 - (2/np.pi))\n",
    "    metric = (sum - (muHalfNormal*num_points)) / np.sqrt(varianceHalfNormal*num_points)\n",
    "\n",
    "    return metric\n"
   ]
  },
  {
   "cell_type": "code",
   "execution_count": 6,
   "metadata": {},
   "outputs": [
    {
     "data": {
      "text/plain": [
       "-17.758066079929414"
      ]
     },
     "execution_count": 6,
     "metadata": {},
     "output_type": "execute_result"
    }
   ],
   "source": [
    "returnMetric(0)"
   ]
  },
  {
   "cell_type": "code",
   "execution_count": 7,
   "metadata": {},
   "outputs": [],
   "source": [
    "# saveFile = 'data_add/points_diff_scans_infV.npz'\n",
    "saveFile = 'data/points_from_sim_ranges_inf.npz'\n",
    "\n",
    "# load the two laser scans. they are already in a 4x1 format\n",
    "diff_points_from_ranges = np.load(saveFile)\n",
    "dspoints_p1_4x1 = returnFinites(diff_points_from_ranges['points_p1'])\n",
    "dspoints_p2_4x1 = returnFinites(diff_points_from_ranges['points_p2'])\n",
    "\n",
    "# create a point cloud object for open3d and input your points in there\n",
    "source_pcd = o3d.geometry.PointCloud()\n",
    "target_pcd = o3d.geometry.PointCloud()\n",
    "\n",
    "source_pcd.points = o3d.utility.Vector3dVector(dspoints_p1_4x1[:, 0:3])\n",
    "target_pcd.points = o3d.utility.Vector3dVector(dspoints_p2_4x1[:, 0:3])\n",
    "\n",
    "threshold = 0.02*1e1\n",
    "# draw_registration_result(source_pcd, target_pcd)\n",
    "\n",
    "dists = source_pcd.compute_point_cloud_distance(target_pcd)"
   ]
  },
  {
   "cell_type": "code",
   "execution_count": 8,
   "metadata": {},
   "outputs": [
    {
     "name": "stdout",
     "output_type": "stream",
     "text": [
      "Sum:  9.299908368817023\n",
      "209\n"
     ]
    }
   ],
   "source": [
    "sum = 0\n",
    "count = 0\n",
    "for d in dists:\n",
    "    # print(\"Distance: \", d)\n",
    "    count += 1\n",
    "    sum += d\n",
    "print(\"Sum: \", sum)\n",
    "print(count)"
   ]
  },
  {
   "cell_type": "code",
   "execution_count": 9,
   "metadata": {},
   "outputs": [
    {
     "name": "stdout",
     "output_type": "stream",
     "text": [
      "Metric:  -11.316444987797645\n",
      "F^-1(1-alpha):  1.281728756502709\n"
     ]
    }
   ],
   "source": [
    "alpha = 0.1\n",
    "oneMinusAlpha = 1 - alpha\n",
    "f_inv = NormalCDFInverse(oneMinusAlpha)\n",
    "\n",
    "print(\"Metric: \", returnMetric(sum))\n",
    "print(\"F^-1(1-alpha): \", f_inv)\n",
    "# print(NormalCDFInverse(alpha))"
   ]
  },
  {
   "cell_type": "code",
   "execution_count": 10,
   "metadata": {},
   "outputs": [],
   "source": [
    "saveFile = 'data_add/points_scan_dump.npz'\n",
    "loadFile = np.load(saveFile)\n",
    "points_array = loadFile['arr_0']\n",
    "num_scans = len(points_array)\n",
    "source_pcd = o3d.geometry.PointCloud()\n",
    "target_pcd = o3d.geometry.PointCloud()"
   ]
  },
  {
   "cell_type": "code",
   "execution_count": 11,
   "metadata": {},
   "outputs": [],
   "source": [
    "# to get the points score of the NxN matrix\n",
    "\n",
    "distances = np.zeros((num_scans, num_scans))\n",
    "psi = np.zeros((num_scans, num_scans))\n",
    "\n",
    "for i in range(num_scans):\n",
    "    scan1 = returnFinites(points_array[i])\n",
    "    source_pcd.points = o3d.utility.Vector3dVector(scan1[:, 0:3])\n",
    "    for j in range(i, num_scans):\n",
    "        scan2 = returnFinites(points_array[j])\n",
    "        target_pcd.points = o3d.utility.Vector3dVector(scan2[:, 0:3])\n",
    "        dist = np.array(source_pcd.compute_point_cloud_distance(target_pcd))\n",
    "        distances[i, j] = np.sum(dist)\n",
    "        psi[i, j] = returnMetric(distances[i, j])\n",
    "\n",
    "distances - symmetrize(distances)\n",
    "psi = symmetrize(psi)"
   ]
  },
  {
   "cell_type": "code",
   "execution_count": 18,
   "metadata": {},
   "outputs": [
    {
     "name": "stdout",
     "output_type": "stream",
     "text": [
      "0 1 -10.777417577499667\n",
      "1 2 -11.454927041091215\n",
      "2 3 -11.15564822003256\n",
      "3 4 -10.744079084609181\n",
      "4 5 -10.453412182415954\n",
      "5 6 -10.722695180634702\n",
      "6 7 -10.714245212794578\n",
      "7 8 -10.996641273374046\n",
      "8 9 -11.125582191551931\n",
      "9 10 -10.356811204812008\n",
      "10 11 -10.170807608061134\n",
      "11 12 -10.175849189691354\n",
      "12 13 -8.230026433096123\n",
      "13 14 -7.944039227527355\n",
      "14 15 -8.35164408270164\n",
      "15 16 -7.993618086053112\n",
      "16 17 -8.89284735410875\n",
      "17 18 -7.862622973008734\n",
      "18 19 -8.776424802308307\n",
      "19 20 -10.458404805576633\n",
      "20 21 -9.439470151253023\n",
      "21 22 -11.033479450418708\n",
      "22 23 -9.26589981765317\n",
      "23 24 -2.4315216528611305\n",
      "24 25 -11.622633912024224\n",
      "25 26 -12.312239558093752\n",
      "26 27 -13.458162836125014\n",
      "27 28 -13.90744741287058\n",
      "28 29 -12.824054516776402\n",
      "29 30 -12.20237013763736\n",
      "30 31 -12.720773277634104\n",
      "31 32 -12.326292426139679\n",
      "32 33 -12.391951573112047\n",
      "33 34 -10.095328346349213\n",
      "34 35 -10.050096721618798\n",
      "35 36 -14.410718858394292\n",
      "36 37 -13.719756278692744\n",
      "37 38 -9.843857268220058\n",
      "38 39 -12.348038416832326\n",
      "39 40 10.611425399710722\n",
      "40 41 26.99921065643574\n",
      "41 42 29.242275013069317\n",
      "42 43 22.600591672549637\n",
      "43 44 13.8500456819368\n",
      "44 45 10.94666640208702\n",
      "45 46 10.500764757122537\n",
      "46 47 10.779538777255011\n",
      "47 48 10.61978712909312\n",
      "48 49 -2.0991702523337743\n",
      "49 50 -16.0639898664913\n",
      "50 51 -16.185096775283775\n",
      "51 52 -16.110639888127814\n",
      "52 53 -16.043222403158044\n",
      "53 54 -16.092591903311526\n",
      "54 55 -16.15280045383635\n",
      "55 56 -15.386238214490435\n",
      "56 57 -16.06150750303704\n",
      "57 58 -16.068467534720227\n",
      "58 59 -16.173891298255413\n",
      "59 60 -16.114099909492317\n",
      "60 61 -16.03653378788855\n",
      "61 62 -16.202626309512787\n",
      "62 63 -16.138455327801264\n",
      "63 64 -16.14125734783647\n",
      "64 65 -16.161040354911204\n",
      "65 66 -16.051610567833833\n",
      "66 67 -15.966122620621256\n",
      "67 68 -16.151222844289823\n",
      "68 69 -16.172265804072993\n",
      "69 70 -16.396295143495596\n",
      "70 71 -16.275189973457906\n",
      "71 72 -16.320195853391546\n",
      "72 73 -16.108659243192538\n",
      "73 74 -16.259631620794487\n",
      "74 75 -16.18091507544466\n",
      "75 76 -16.27073988922022\n",
      "76 77 -16.257908438114946\n",
      "77 78 -16.14146875378291\n",
      "78 79 -16.05966404112728\n",
      "79 80 -16.18929204691984\n"
     ]
    }
   ],
   "source": [
    "pairwiseMetric = np.zeros((len(psi-1)))\n",
    "for i in range(len(psi)-1):\n",
    "    print(i, i+1, psi[i, i+1])\n",
    "    pairwiseMetric[i] = psi[i, i+1]"
   ]
  },
  {
   "cell_type": "code",
   "execution_count": null,
   "metadata": {},
   "outputs": [],
   "source": [
    "create_heatmap(psi, f_inv)"
   ]
  },
  {
   "cell_type": "code",
   "execution_count": null,
   "metadata": {},
   "outputs": [],
   "source": [
    "# to get the points score for first against all other scans\n",
    "first = returnFinites(points_array[0])\n",
    "\n",
    "source_pcd = o3d.geometry.PointCloud()\n",
    "source_pcd.points = o3d.utility.Vector3dVector(first[:, 0:3])\n",
    "target_pcd = o3d.geometry.PointCloud()\n",
    "\n",
    "distance_array = []\n",
    "\n",
    "for points in points_array:\n",
    "    points = returnFinites(points)\n",
    "    target_pcd.points = o3d.utility.Vector3dVector(points[:, 0:3])\n",
    "    dists = source_pcd.compute_point_cloud_distance(target_pcd)\n",
    "    distance_array.append(dists)\n",
    "\n",
    "distance_array = np.array(distance_array)"
   ]
  },
  {
   "cell_type": "code",
   "execution_count": null,
   "metadata": {},
   "outputs": [],
   "source": [
    "dist_all_scans = np.sum(distance_array, axis=1)\n",
    "metric_all_scans = returnMetric(dist_all_scans)\n",
    "for i in range(len(dist_all_scans)):\n",
    "    print(\"Distance: {}\\t Metric: {}\".format(dist_all_scans[i], metric_all_scans[i]))"
   ]
  },
  {
   "cell_type": "code",
   "execution_count": null,
   "metadata": {},
   "outputs": [],
   "source": [
    "num_points = 180\n",
    "laserRangeVaraince = 0.015933206879414907\n",
    "normalVariance = 2*laserRangeVaraince\n",
    "muHalfNormal = np.sqrt(2 * normalVariance / np.pi)\n",
    "varianceHalfNormal = normalVariance * (1 - (2/np.pi))"
   ]
  },
  {
   "cell_type": "code",
   "execution_count": null,
   "metadata": {},
   "outputs": [],
   "source": [
    "muHalfNormal*360"
   ]
  },
  {
   "cell_type": "code",
   "execution_count": 19,
   "metadata": {},
   "outputs": [
    {
     "data": {
      "image/png": "[encoded data removed]",
      "text/plain": [
       "<Figure size 640x480 with 1 Axes>"
      ]
     },
     "metadata": {},
     "output_type": "display_data"
    }
   ],
   "source": [
    "num_bins = 20\n",
    "\n",
    "# x = np.linspace(np.min(pairwiseMetric), np.max(pairwiseMetric), 1000)  # Define x range for the PDF plot\n",
    "# pdf = norm.pdf(x, loc=muHalfNormal*num_points, scale=varianceHalfNormal*num_points)\n",
    "\n",
    "# Plot the histogram\n",
    "plt.hist(pairwiseMetric, bins=num_bins, edgecolor='black')\n",
    "# plt.plot(x, pdf, color='red', label='Standard Normal Distribution')\n",
    "plt.xlabel('Values')\n",
    "plt.ylabel('Frequency')\n",
    "plt.title('Histogram Plot')\n",
    "plt.show()"
   ]
  },
  {
   "cell_type": "code",
   "execution_count": null,
   "metadata": {},
   "outputs": [],
   "source": [
    "# kdtSearchParam = o3d.geometry.KDTreeSearchParamHybrid(5e-2, 1)\n",
    "# source_feature = o3d.pipelines.registration.compute_fpfh_feature(source_pcd, kdtSearchParam)\n",
    "# target_feature = o3d.pipelines.registration.compute_fpfh_feature(target_pcd, kdtSearchParam)\n",
    "\n",
    "# correspondings = o3d.pipelines.registration.correspondences_from_features(source_feature, target_feature)"
   ]
  },
  {
   "cell_type": "code",
   "execution_count": null,
   "metadata": {},
   "outputs": [],
   "source": [
    "sums = np.arange(100)\n",
    "metrics = metric_and_cdf(sums)"
   ]
  },
  {
   "cell_type": "code",
   "execution_count": null,
   "metadata": {},
   "outputs": [],
   "source": [
    "plt.plot(sums, metrics)\n",
    "plt.show()"
   ]
  },
  {
   "cell_type": "code",
   "execution_count": null,
   "metadata": {},
   "outputs": [],
   "source": []
  }
 ],
 "metadata": {
  "kernelspec": {
   "display_name": "icpVenv",
   "language": "python",
   "name": "python3"
  },
  "language_info": {
   "codemirror_mode": {
    "name": "ipython",
    "version": 3
   },
   "file_extension": ".py",
   "mimetype": "text/x-python",
   "name": "python",
   "nbconvert_exporter": "python",
   "pygments_lexer": "ipython3",
   "version": "3.8.10"
  },
  "orig_nbformat": 4
 },
 "nbformat": 4,
 "nbformat_minor": 2
}
