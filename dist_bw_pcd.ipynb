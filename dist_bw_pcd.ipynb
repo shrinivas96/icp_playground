{
 "cells": [
  {
   "cell_type": "code",
   "execution_count": 1,
   "metadata": {},
   "outputs": [
    {
     "name": "stdout",
     "output_type": "stream",
     "text": [
      "Jupyter environment detected. Enabling Open3D WebVisualizer.\n",
      "[Open3D INFO] WebRTC GUI backend enabled.\n",
      "[Open3D INFO] WebRTCWindowSystem: HTTP handshake server disabled.\n"
     ]
    }
   ],
   "source": [
    "import copy\n",
    "import numpy as np\n",
    "import open3d as o3d\n",
    "import matplotlib.pyplot as plt"
   ]
  },
  {
   "cell_type": "code",
   "execution_count": 2,
   "metadata": {},
   "outputs": [],
   "source": [
    "def create_heatmap(matrix, threshold):\n",
    "    # Create a mask to identify values that are smaller than the threshold\n",
    "    mask = matrix < threshold\n",
    "    \n",
    "    # Create a new matrix with masked values\n",
    "    masked_matrix = np.ma.masked_where(~mask, matrix)\n",
    "    \n",
    "    # Create the heatmap using matplotlib\n",
    "    plt.figure(figsize=(10, 8))\n",
    "    plt.imshow(masked_matrix, cmap='hot', interpolation='nearest', vmin=matrix.min(), vmax=matrix.max())\n",
    "    plt.colorbar()\n",
    "    plt.title(f\"Heatmap for Values < {threshold}\")\n",
    "    plt.show()\n",
    "\n",
    "\n",
    "def plot_data(data_1, data_2, label_1, label_2, markersize_1=5, markersize_2=5):\n",
    "    fig = plt.figure(figsize=(10, 6))\n",
    "    ax = fig.add_subplot(111)\n",
    "    ax.axis('equal')\n",
    "    if data_1 is not None:\n",
    "        x_p, y_p = data_1\n",
    "        ax.plot(x_p, y_p, color='#336699', markersize=markersize_1, marker='o', linestyle=\":\", label=label_1)\n",
    "    if data_2 is not None:\n",
    "        x_q, y_q = data_2\n",
    "        ax.plot(x_q, y_q, color='orangered', markersize=markersize_2, marker='o', linestyle=\":\", label=label_2)\n",
    "    ax.legend()\n",
    "    return ax"
   ]
  },
  {
   "cell_type": "code",
   "execution_count": 3,
   "metadata": {},
   "outputs": [],
   "source": [
    "def symmetrize(a):\n",
    "    \"\"\"\n",
    "    Return a symmetrized version of NumPy array a.\n",
    "\n",
    "    Values 0 are replaced by the array value at the symmetric\n",
    "    position (with respect to the diagonal), i.e. if a_ij = 0,\n",
    "    then the returned array a' is such that a'_ij = a_ji.\n",
    "\n",
    "    Diagonal values are left untouched.\n",
    "\n",
    "    a -- square NumPy array, such that a_ij = 0 or a_ji = 0, \n",
    "    for i != j.\n",
    "    \"\"\"\n",
    "    return a + a.T - np.diag(a.diagonal())"
   ]
  },
  {
   "cell_type": "code",
   "execution_count": 4,
   "metadata": {},
   "outputs": [],
   "source": [
    "# Inverse of a CDF related functions\n",
    "\n",
    "def RationalApproximation(t):\n",
    "    # Abramowitz and Stegun formula 26.2.23.\n",
    "    # The absolute value of the error should be less than 4.5 e-4.\n",
    "    c = [2.515517, 0.802853, 0.010328]\n",
    "    d = [1.432788, 0.189269, 0.001308]\n",
    "    return t - ((c[2]*t + c[1])*t + c[0]) / (((d[2]*t + d[1])*t + d[0])*t + 1.0)\n",
    "\n",
    "def NormalCDFInverse(p):\n",
    "    # See article above for explanation of this section.\n",
    "    if (p < 0.5):\n",
    "        # F^-1(p) = - G^-1(p)\n",
    "        return -RationalApproximation( np.sqrt(-2.0*np.log(p)) )\n",
    "    else:\n",
    "        # F^-1(p) = G^-1(1-p)\n",
    "        return RationalApproximation( np.sqrt(-2.0*np.log(1-p)) ) "
   ]
  },
  {
   "cell_type": "code",
   "execution_count": 5,
   "metadata": {},
   "outputs": [],
   "source": [
    "def returnMetric(sum):\n",
    "    num_points = 180\n",
    "    laserRangeVaraince = 0.015933206879414907\n",
    "    normalVariance = 2*laserRangeVaraince\n",
    "    muHalfNormal = np.sqrt(2 * normalVariance / np.pi)\n",
    "    varianceHalfNormal = normalVariance * (1 - (2/np.pi))\n",
    "    metric = (sum - (muHalfNormal*num_points)) / np.sqrt(varianceHalfNormal*num_points)\n",
    "\n",
    "    return metric\n",
    "\n",
    "def returnFinites(array):\n",
    "    arr_isfinite = np.all(np.isfinite(array), axis=1)\n",
    "    return array[arr_isfinite, :]\n"
   ]
  },
  {
   "cell_type": "code",
   "execution_count": 6,
   "metadata": {},
   "outputs": [
    {
     "data": {
      "text/plain": [
       "-17.758066079929414"
      ]
     },
     "execution_count": 6,
     "metadata": {},
     "output_type": "execute_result"
    }
   ],
   "source": [
    "returnMetric(0)"
   ]
  },
  {
   "cell_type": "code",
   "execution_count": 7,
   "metadata": {},
   "outputs": [],
   "source": [
    "# saveFile = 'data_add/points_diff_scans_infV.npz'\n",
    "# saveFile = 'data/points_from_sim_ranges_inf.npz'\n",
    "points_and_aligned = \"writing_data/points_and_aligned.npz\"\n",
    "\n",
    "# load the two laser scans. they are already in a 4x1 format\n",
    "diff_points_from_ranges = np.load(points_and_aligned)\n",
    "dspoints_p1_4x1 = returnFinites(diff_points_from_ranges['points_p1'])\n",
    "dspoints_p2_4x1 = returnFinites(diff_points_from_ranges['points_p2'])\n",
    "\n",
    "# create a point cloud object for open3d and input your points in there\n",
    "source_pcd = o3d.geometry.PointCloud()\n",
    "target_pcd = o3d.geometry.PointCloud()\n",
    "\n",
    "source_pcd.points = o3d.utility.Vector3dVector(dspoints_p1_4x1[:, 0:3])\n",
    "target_pcd.points = o3d.utility.Vector3dVector(dspoints_p2_4x1[:, 0:3])\n",
    "\n",
    "threshold = 0.02*1e1\n",
    "dists = source_pcd.compute_point_cloud_distance(target_pcd)\n",
    "dist_bw_source_target = np.array(source_pcd.compute_point_cloud_distance(target_pcd))\n",
    "dist_bw_source_target_rw = np.array(target_pcd.compute_point_cloud_distance(source_pcd))\n",
    "sum_st = dist_bw_source_target.sum()\n",
    "sum_st_rw = dist_bw_source_target_rw.sum()"
   ]
  },
  {
   "cell_type": "code",
   "execution_count": 10,
   "metadata": {},
   "outputs": [
    {
     "name": "stdout",
     "output_type": "stream",
     "text": [
      "Sum of all distances:  5.611838042345273 7.632618993100218\n"
     ]
    }
   ],
   "source": [
    "print(\"Sum of all distances: \", dist_bw_source_target.sum(), dist_bw_source_target_rw.sum())"
   ]
  },
  {
   "cell_type": "code",
   "execution_count": 8,
   "metadata": {},
   "outputs": [
    {
     "data": {
      "image/png": "[encoded data removed]",
      "text/plain": [
       "<Figure size 1000x600 with 1 Axes>"
      ]
     },
     "metadata": {},
     "output_type": "display_data"
    }
   ],
   "source": [
    "ax = plot_data(dspoints_p1_4x1[:, 0:2].T, dspoints_p2_4x1[:, 0:2].T,\n",
    "               label_1='Moved data centered',\n",
    "               label_2='True data centered')\n",
    "plt.show()"
   ]
  },
  {
   "cell_type": "code",
   "execution_count": 9,
   "metadata": {},
   "outputs": [
    {
     "name": "stdout",
     "output_type": "stream",
     "text": [
      "Metric:  -13.871002587948247\n",
      "Metric:  -12.471300066296742\n",
      "F^-1(1-alpha):  1.281728756502709\n"
     ]
    }
   ],
   "source": [
    "alpha = 0.1\n",
    "oneMinusAlpha = 1 - alpha\n",
    "f_inv = NormalCDFInverse(oneMinusAlpha)\n",
    "\n",
    "print(\"Metric: \", returnMetric(sum_st))\n",
    "print(\"Metric: \", returnMetric(sum_st_rw))\n",
    "print(\"F^-1(1-alpha): \", f_inv)\n",
    "# print(NormalCDFInverse(alpha))"
   ]
  },
  {
   "cell_type": "code",
   "execution_count": null,
   "metadata": {},
   "outputs": [],
   "source": [
    "saveFile = 'data_add/points_scan_dump.npz'\n",
    "loadFile = np.load(saveFile)\n",
    "points_array = loadFile['arr_0']\n",
    "num_scans = len(points_array)\n",
    "source_pcd = o3d.geometry.PointCloud()\n",
    "target_pcd = o3d.geometry.PointCloud()"
   ]
  },
  {
   "cell_type": "code",
   "execution_count": null,
   "metadata": {},
   "outputs": [],
   "source": [
    "# to get the points score of the NxN matrix\n",
    "\n",
    "distances = np.zeros((num_scans, num_scans))\n",
    "psi = np.zeros((num_scans, num_scans))\n",
    "\n",
    "for i in range(num_scans):\n",
    "    scan1 = returnFinites(points_array[i])\n",
    "    source_pcd.points = o3d.utility.Vector3dVector(scan1[:, 0:3])\n",
    "    for j in range(i, num_scans):\n",
    "        scan2 = returnFinites(points_array[j])\n",
    "        target_pcd.points = o3d.utility.Vector3dVector(scan2[:, 0:3])\n",
    "        dist = np.array(source_pcd.compute_point_cloud_distance(target_pcd))\n",
    "        distances[i, j] = np.sum(dist)\n",
    "        psi[i, j] = returnMetric(distances[i, j])\n",
    "\n",
    "distances - symmetrize(distances)\n",
    "psi = symmetrize(psi)"
   ]
  },
  {
   "cell_type": "code",
   "execution_count": null,
   "metadata": {},
   "outputs": [],
   "source": [
    "pairwiseMetric = np.zeros((len(psi-1)))\n",
    "for i in range(len(psi)-1):\n",
    "    print(i, i+1, psi[i, i+1])\n",
    "    pairwiseMetric[i] = psi[i, i+1]"
   ]
  },
  {
   "cell_type": "code",
   "execution_count": null,
   "metadata": {},
   "outputs": [],
   "source": [
    "create_heatmap(psi, f_inv)"
   ]
  },
  {
   "cell_type": "code",
   "execution_count": null,
   "metadata": {},
   "outputs": [],
   "source": [
    "# to get the points score for first against all other scans\n",
    "first = returnFinites(points_array[0])\n",
    "\n",
    "source_pcd = o3d.geometry.PointCloud()\n",
    "source_pcd.points = o3d.utility.Vector3dVector(first[:, 0:3])\n",
    "target_pcd = o3d.geometry.PointCloud()\n",
    "\n",
    "distance_array = []\n",
    "\n",
    "for points in points_array:\n",
    "    points = returnFinites(points)\n",
    "    target_pcd.points = o3d.utility.Vector3dVector(points[:, 0:3])\n",
    "    dists = source_pcd.compute_point_cloud_distance(target_pcd)\n",
    "    distance_array.append(dists)\n",
    "\n",
    "distance_array = np.array(distance_array)"
   ]
  },
  {
   "cell_type": "code",
   "execution_count": null,
   "metadata": {},
   "outputs": [],
   "source": [
    "dist_all_scans = np.sum(distance_array, axis=1)\n",
    "metric_all_scans = returnMetric(dist_all_scans)\n",
    "for i in range(len(dist_all_scans)):\n",
    "    print(\"Distance: {}\\t Metric: {}\".format(dist_all_scans[i], metric_all_scans[i]))"
   ]
  },
  {
   "cell_type": "code",
   "execution_count": null,
   "metadata": {},
   "outputs": [],
   "source": [
    "num_points = 180\n",
    "laserRangeVaraince = 0.015933206879414907\n",
    "normalVariance = 2*laserRangeVaraince\n",
    "muHalfNormal = np.sqrt(2 * normalVariance / np.pi)\n",
    "varianceHalfNormal = normalVariance * (1 - (2/np.pi))"
   ]
  },
  {
   "cell_type": "code",
   "execution_count": null,
   "metadata": {},
   "outputs": [],
   "source": [
    "muHalfNormal*360"
   ]
  },
  {
   "cell_type": "code",
   "execution_count": null,
   "metadata": {},
   "outputs": [],
   "source": [
    "num_bins = 20\n",
    "\n",
    "# x = np.linspace(np.min(pairwiseMetric), np.max(pairwiseMetric), 1000)  # Define x range for the PDF plot\n",
    "# pdf = norm.pdf(x, loc=muHalfNormal*num_points, scale=varianceHalfNormal*num_points)\n",
    "\n",
    "# Plot the histogram\n",
    "plt.hist(pairwiseMetric, bins=num_bins, edgecolor='black')\n",
    "# plt.plot(x, pdf, color='red', label='Standard Normal Distribution')\n",
    "plt.xlabel('Values')\n",
    "plt.ylabel('Frequency')\n",
    "plt.title('Histogram Plot')\n",
    "plt.show()"
   ]
  },
  {
   "cell_type": "code",
   "execution_count": null,
   "metadata": {},
   "outputs": [],
   "source": [
    "# kdtSearchParam = o3d.geometry.KDTreeSearchParamHybrid(5e-2, 1)\n",
    "# source_feature = o3d.pipelines.registration.compute_fpfh_feature(source_pcd, kdtSearchParam)\n",
    "# target_feature = o3d.pipelines.registration.compute_fpfh_feature(target_pcd, kdtSearchParam)\n",
    "\n",
    "# correspondings = o3d.pipelines.registration.correspondences_from_features(source_feature, target_feature)"
   ]
  },
  {
   "cell_type": "code",
   "execution_count": null,
   "metadata": {},
   "outputs": [],
   "source": [
    "sums = np.arange(100)\n",
    "metrics = metric_and_cdf(sums)"
   ]
  },
  {
   "cell_type": "code",
   "execution_count": null,
   "metadata": {},
   "outputs": [],
   "source": [
    "plt.plot(sums, metrics)\n",
    "plt.show()"
   ]
  },
  {
   "cell_type": "code",
   "execution_count": null,
   "metadata": {},
   "outputs": [],
   "source": []
  }
 ],
 "metadata": {
  "kernelspec": {
   "display_name": "icpVenv",
   "language": "python",
   "name": "python3"
  },
  "language_info": {
   "codemirror_mode": {
    "name": "ipython",
    "version": 3
   },
   "file_extension": ".py",
   "mimetype": "text/x-python",
   "name": "python",
   "nbconvert_exporter": "python",
   "pygments_lexer": "ipython3",
   "version": "3.8.10"
  },
  "orig_nbformat": 4
 },
 "nbformat": 4,
 "nbformat_minor": 2
}
