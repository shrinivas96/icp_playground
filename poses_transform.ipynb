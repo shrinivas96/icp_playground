{
 "cells": [
  {
   "cell_type": "code",
   "execution_count": 2,
   "metadata": {},
   "outputs": [],
   "source": [
    "import numpy as np\n",
    "import matplotlib.pyplot as plt"
   ]
  },
  {
   "cell_type": "code",
   "execution_count": 12,
   "metadata": {},
   "outputs": [],
   "source": [
    "def make_homo(poses_as_matrix):\n",
    "    poses_as_homo = np.eye(4)\n",
    "    poses_as_homo[0:3, :] = poses_as_matrix\n",
    "    return poses_as_homo"
   ]
  },
  {
   "cell_type": "code",
   "execution_count": 4,
   "metadata": {},
   "outputs": [],
   "source": [
    "all_poses = np.load('export_data/poses_raw_graph_base.npz')\n",
    "poses = all_poses['arr_0']"
   ]
  },
  {
   "cell_type": "code",
   "execution_count": 17,
   "metadata": {},
   "outputs": [],
   "source": [
    "init_pose = np.zeros((4, 1))\n",
    "init_pose[3] = 1\n",
    "trajectory = np.zeros((poses.shape[0], 4))"
   ]
  },
  {
   "cell_type": "code",
   "execution_count": 19,
   "metadata": {},
   "outputs": [
    {
     "name": "stdout",
     "output_type": "stream",
     "text": [
      "[[-3.000005e+00]\n",
      " [ 1.000001e+00]\n",
      " [-1.007000e-03]\n",
      " [ 1.000000e+00]]\n"
     ]
    }
   ],
   "source": [
    "for vector in poses[0:1, :]:\n",
    "    transform = make_homo(np.reshape(vector, (3, 4)))\n",
    "    print(np.matmul(transform, init_pose))\n",
    "    "
   ]
  }
 ],
 "metadata": {
  "kernelspec": {
   "display_name": "icpVenv",
   "language": "python",
   "name": "python3"
  },
  "language_info": {
   "codemirror_mode": {
    "name": "ipython",
    "version": 3
   },
   "file_extension": ".py",
   "mimetype": "text/x-python",
   "name": "python",
   "nbconvert_exporter": "python",
   "pygments_lexer": "ipython3",
   "version": "3.8.10"
  },
  "orig_nbformat": 4
 },
 "nbformat": 4,
 "nbformat_minor": 2
}
